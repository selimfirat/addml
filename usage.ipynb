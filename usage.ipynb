{
 "cells": [
  {
   "cell_type": "code",
   "execution_count": 1,
   "id": "cd121949-bab7-47cd-8182-1c41eaa03451",
   "metadata": {},
   "outputs": [
    {
     "name": "stderr",
     "output_type": "stream",
     "text": [
      "/opt/homebrew/Caskroom/miniforge/base/envs/mlep-w1-lab/lib/python3.8/site-packages/tqdm/auto.py:22: TqdmWarning: IProgress not found. Please update jupyter and ipywidgets. See https://ipywidgets.readthedocs.io/en/stable/user_install.html\n",
      "  from .autonotebook import tqdm as notebook_tqdm\n"
     ]
    }
   ],
   "source": [
    "import paper\n",
    "import pandas as pd\n",
    "import numpy as np\n",
    "import seaborn as sns\n",
    "import urllib.request\n",
    "import warnings\n",
    "warnings.filterwarnings(\"ignore\")"
   ]
  },
  {
   "cell_type": "markdown",
   "id": "fa0c1c5f-7142-477f-9b76-15b791adb332",
   "metadata": {},
   "source": [
    "# Simple Dataset training and inference"
   ]
  },
  {
   "cell_type": "markdown",
   "id": "93a9de75-33b6-46a4-b98e-e086ac8834b5",
   "metadata": {},
   "source": [
    "## Dataset loading and preprocessing"
   ]
  },
  {
   "cell_type": "code",
   "execution_count": 3,
   "id": "7e65cb78-7d27-488c-b370-d7bbd10a2a35",
   "metadata": {},
   "outputs": [
    {
     "data": {
      "text/html": [
       "<div>\n",
       "<style scoped>\n",
       "    .dataframe tbody tr th:only-of-type {\n",
       "        vertical-align: middle;\n",
       "    }\n",
       "\n",
       "    .dataframe tbody tr th {\n",
       "        vertical-align: top;\n",
       "    }\n",
       "\n",
       "    .dataframe thead th {\n",
       "        text-align: right;\n",
       "    }\n",
       "</style>\n",
       "<table border=\"1\" class=\"dataframe\">\n",
       "  <thead>\n",
       "    <tr style=\"text-align: right;\">\n",
       "      <th></th>\n",
       "      <th>x_axis</th>\n",
       "      <th>y_axis</th>\n",
       "      <th>class</th>\n",
       "    </tr>\n",
       "  </thead>\n",
       "  <tbody>\n",
       "    <tr>\n",
       "      <th>0</th>\n",
       "      <td>19.954786</td>\n",
       "      <td>-6.092677</td>\n",
       "      <td>1</td>\n",
       "    </tr>\n",
       "    <tr>\n",
       "      <th>1</th>\n",
       "      <td>20.850880</td>\n",
       "      <td>8.201559</td>\n",
       "      <td>1</td>\n",
       "    </tr>\n",
       "    <tr>\n",
       "      <th>2</th>\n",
       "      <td>19.628681</td>\n",
       "      <td>-7.373657</td>\n",
       "      <td>1</td>\n",
       "    </tr>\n",
       "    <tr>\n",
       "      <th>3</th>\n",
       "      <td>18.889160</td>\n",
       "      <td>-8.513841</td>\n",
       "      <td>1</td>\n",
       "    </tr>\n",
       "    <tr>\n",
       "      <th>4</th>\n",
       "      <td>18.441503</td>\n",
       "      <td>-8.971706</td>\n",
       "      <td>1</td>\n",
       "    </tr>\n",
       "  </tbody>\n",
       "</table>\n",
       "</div>"
      ],
      "text/plain": [
       "      x_axis    y_axis  class\n",
       "0  19.954786 -6.092677      1\n",
       "1  20.850880  8.201559      1\n",
       "2  19.628681 -7.373657      1\n",
       "3  18.889160 -8.513841      1\n",
       "4  18.441503 -8.971706      1"
      ]
     },
     "execution_count": 3,
     "metadata": {},
     "output_type": "execute_result"
    }
   ],
   "source": [
    "# Loads a simple 2-d dataset\n",
    "df = pd.read_csv('./data/simple.csv')\n",
    "df.head()"
   ]
  },
  {
   "cell_type": "code",
   "execution_count": 25,
   "id": "aea7f9d0-defd-4fb0-b584-441c146028f8",
   "metadata": {},
   "outputs": [
    {
     "data": {
      "text/plain": [
       "<Axes: >"
      ]
     },
     "execution_count": 25,
     "metadata": {},
     "output_type": "execute_result"
    },
    {
     "data": {
      "image/png": "[encoded data removed]",
      "text/plain": [
       "<Figure size 640x480 with 2 Axes>"
      ]
     },
     "metadata": {},
     "output_type": "display_data"
    }
   ],
   "source": [
    "# Showing the correlation difference between the features of the inlier and the outlier sets\n",
    "df_train = df.loc[df['class'] == 1].drop(['class'], axis=1)\n",
    "df_shift = df.loc[df['class'] == 0].drop(['class'], axis=1)\n",
    "full_corr = df_train.corr() - df_shift.corr()\n",
    "sns.heatmap(full_corr)"
   ]
  },
  {
   "cell_type": "code",
   "execution_count": 8,
   "id": "537f1725-dca3-449e-9cf5-5268b8a9ed59",
   "metadata": {},
   "outputs": [
    {
     "name": "stdout",
     "output_type": "stream",
     "text": [
      "(10000, 2) (200, 2)\n"
     ]
    }
   ],
   "source": [
    "print(df_train.shape, df_shift.shape)"
   ]
  },
  {
   "cell_type": "markdown",
   "id": "42612374-9074-4a1a-97d3-458782375a81",
   "metadata": {},
   "source": [
    "## Training using the ADDML model"
   ]
  },
  {
   "cell_type": "code",
   "execution_count": 10,
   "id": "5e93d6d4-6033-4af2-b7b9-a739b9d51085",
   "metadata": {},
   "outputs": [],
   "source": [
    "model = paper.OCML(prediction_head = \"knn\",\n",
    "                   knn_method = \"largest\",\n",
    "                   n_neighbors = 5,\n",
    "                   metric_dim = 10,\n",
    "                   num_epochs = 1000,\n",
    "                   lr = 0.001,\n",
    "                   weight_decay = 0,\n",
    "                   val_size = 0.2,\n",
    "                   mini_batch_size = 512,\n",
    "                   patience = 0,\n",
    "                   num_hidden_neurons = 128,\n",
    "                   num_hidden_neurons2 = 128,\n",
    "                   device = 'cpu',\n",
    "                   normal_ratio = 0.8,\n",
    "                   anomaly_ratio = None,\n",
    "                   easy_ratio = 0.5,\n",
    "                   hard_ratio = 0.5,\n",
    "                   output_dimension = 14)"
   ]
  },
  {
   "cell_type": "code",
   "execution_count": 11,
   "id": "1f98f357-47f0-418a-b373-b4a447642665",
   "metadata": {
    "collapsed": true,
    "jupyter": {
     "outputs_hidden": true
    },
    "tags": []
   },
   "outputs": [
    {
     "name": "stdout",
     "output_type": "stream",
     "text": [
      "torch.Size([130816]) torch.Size([65408])\n",
      "torch.Size([130816]) torch.Size([65408])\n",
      "torch.Size([130816]) torch.Size([65408])\n",
      "torch.Size([130816]) torch.Size([65408])\n",
      "torch.Size([130816]) torch.Size([65408])\n",
      "torch.Size([130816]) torch.Size([65408])\n",
      "torch.Size([130816]) torch.Size([65408])\n",
      "torch.Size([130816]) torch.Size([65408])\n",
      "torch.Size([130816]) torch.Size([65408])\n",
      "torch.Size([130816]) torch.Size([65408])\n",
      "torch.Size([130816]) torch.Size([65408])\n",
      "torch.Size([130816]) torch.Size([65408])\n",
      "torch.Size([32385]) torch.Size([16192])\n",
      "torch.Size([1999000]) torch.Size([999500])\n"
     ]
    },
    {
     "data": {
      "text/plain": [
       "0.4155"
      ]
     },
     "execution_count": 11,
     "metadata": {},
     "output_type": "execute_result"
    }
   ],
   "source": [
    "model.fit(df_train.to_numpy())"
   ]
  },
  {
   "cell_type": "code",
   "execution_count": 22,
   "id": "fa76d33f-e20d-4d37-8deb-60958a67f626",
   "metadata": {},
   "outputs": [],
   "source": [
    "# Inferencing the model over both datasets\n",
    "results_train = model.decision_function(df_train.to_numpy())\n",
    "results_test = model.decision_function(df_shift.to_numpy())"
   ]
  },
  {
   "cell_type": "code",
   "execution_count": 23,
   "id": "1d94fac0-a6aa-4f99-86f1-c562955eecf9",
   "metadata": {},
   "outputs": [],
   "source": [
    "# Correcting the arrays for trained results and test results by removing top and bottom 2.5%\n",
    "n = int(0.025 * len(results_train))\n",
    "arr_trained = np.sort(results_train)\n",
    "arr_trained = arr_trained[n:-n]\n",
    "\n",
    "n = int(0.025 * len(results_test))\n",
    "arr_tested = np.sort(results_test)\n",
    "arr_tested = arr_tested[n:-n]"
   ]
  },
  {
   "cell_type": "code",
   "execution_count": 24,
   "id": "f84d5646-6790-4d1d-9162-27c9d96e7fac",
   "metadata": {},
   "outputs": [
    {
     "data": {
      "text/html": [
       "<div>\n",
       "<style scoped>\n",
       "    .dataframe tbody tr th:only-of-type {\n",
       "        vertical-align: middle;\n",
       "    }\n",
       "\n",
       "    .dataframe tbody tr th {\n",
       "        vertical-align: top;\n",
       "    }\n",
       "\n",
       "    .dataframe thead th {\n",
       "        text-align: right;\n",
       "    }\n",
       "</style>\n",
       "<table border=\"1\" class=\"dataframe\">\n",
       "  <thead>\n",
       "    <tr style=\"text-align: right;\">\n",
       "      <th></th>\n",
       "      <th>train_set</th>\n",
       "      <th>shifted_set</th>\n",
       "    </tr>\n",
       "  </thead>\n",
       "  <tbody>\n",
       "    <tr>\n",
       "      <th>0</th>\n",
       "      <td>0.000015</td>\n",
       "      <td>0.106418</td>\n",
       "    </tr>\n",
       "  </tbody>\n",
       "</table>\n",
       "</div>"
      ],
      "text/plain": [
       "   train_set  shifted_set\n",
       "0   0.000015     0.106418"
      ]
     },
     "execution_count": 24,
     "metadata": {},
     "output_type": "execute_result"
    }
   ],
   "source": [
    "pd.DataFrame({\"train_set\": [np.mean(arr_trained)], \"shifted_set\": [np.mean(arr_tested)]}).head()"
   ]
  },
  {
   "cell_type": "markdown",
   "id": "368c714d-f4ad-4e4b-b6be-8417b5cf01f3",
   "metadata": {},
   "source": [
    "As you can see, the distance to the outlier distribution data points is way bigger than the one to the inlier distribution data points."
   ]
  }
 ],
 "metadata": {
  "kernelspec": {
   "display_name": "Python 3 (ipykernel)",
   "language": "python",
   "name": "python3"
  },
  "language_info": {
   "codemirror_mode": {
    "name": "ipython",
    "version": 3
   },
   "file_extension": ".py",
   "mimetype": "text/x-python",
   "name": "python",
   "nbconvert_exporter": "python",
   "pygments_lexer": "ipython3",
   "version": "3.8.15"
  }
 },
 "nbformat": 4,
 "nbformat_minor": 5
}
